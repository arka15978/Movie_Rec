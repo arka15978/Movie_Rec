{
  "nbformat": 4,
  "nbformat_minor": 0,
  "metadata": {
    "colab": {
      "private_outputs": true,
      "provenance": []
    },
    "kernelspec": {
      "name": "python3",
      "display_name": "Python 3"
    },
    "language_info": {
      "name": "python"
    }
  },
  "cells": [
    {
      "cell_type": "code",
      "execution_count": null,
      "metadata": {
        "id": "WtV1S2wgTghN"
      },
      "outputs": [],
      "source": [
        "import numpy as np\n",
        "import pandas as pd\n",
        "from sklearn.metrics.pairwise import cosine_similarity\n",
        "from sklearn.feature_extraction.text import CountVectorizer\n",
        "import re\n",
        "import nltk\n",
        "nltk.download('wordnet')\n",
        "from nltk.stem import WordNetLemmatizer\n",
        "nltk.download('stopwords')\n",
        "from nltk.corpus import stopwords\n",
        "df = pd.read_csv('https://query.data.world/s/uikepcpffyo2nhig52xxeevdialfl7')\n",
        "\n",
        "df = df[['Title','Genre','Director','Actors','Plot']]\n",
        "wnlm = WordNetLemmatizer()\n",
        "def text_preprocessor(text):\n",
        "  transformed_text = re.sub('[^a-zA-Z]',' ',str(text))        #Remove all characters which are not alphabets\n",
        "  transformed_text = transformed_text.lower()                 #Convert all alphabets to lower case to avoid adding unnecessary complexities\n",
        "  transformed_text = transformed_text.split()                 #Split the obtained sentence into words\n",
        "  transformed_text = [wnlm.lemmatize(word) for word in transformed_text if word not in set(stopwords.words('english'))]\n",
        "  transformed_text = ' '.join(transformed_text)\n",
        "  return transformed_text\n",
        "tags = []\n",
        "for plot in df['Plot']:\n",
        "  transformed_plot = text_preprocessor(plot)\n",
        "  tags.append(transformed_plot)\n",
        "df['Plot'] = tags\n",
        "directors = []\n",
        "for di in df['Director']:\n",
        "  directors.append(text_preprocessor(di))\n",
        "df['Director'] = directors\n",
        "actors = []\n",
        "for a in df['Actors']:\n",
        "  actors.append(text_preprocessor(a))\n",
        "df['Actors'] = actors\n",
        "genres = []\n",
        "for g in df['Genre']:\n",
        "  genres.append(text_preprocessor(g))\n",
        "df['Genre'] = genres\n",
        "\n",
        "\n",
        "\n",
        "\n",
        "print(\"L\",df.shape)\n",
        "df['merged'] = df['Genre']+\" \" + df['Director']+\" \"+df['Actors']+\" \" + df['Plot']\n",
        "df.head()\n",
        "\n",
        "\n"
      ]
    },
    {
      "cell_type": "code",
      "source": [
        "cv = CountVectorizer()\n",
        "count_matrix = cv.fit_transform(df['merged'])\n",
        "cosine_similarity_matrix = cosine_similarity(count_matrix, count_matrix)\n",
        "print(\"C\",cosine_similarity_matrix)"
      ],
      "metadata": {
        "id": "zvAxlbGep_QC"
      },
      "execution_count": null,
      "outputs": []
    },
    {
      "cell_type": "code",
      "source": [
        "indices = pd.Series(df.index)\n",
        "print(indices)\n",
        "def recommend_movies(title):\n",
        "  recommended_movies = []\n",
        "  id = 0\n",
        "  for i in range(len(df['Title'])):\n",
        "    if df['Title'][i] == title:\n",
        "      id = i\n",
        "      break\n",
        "\n",
        "    # creating a Series with the similarity scores in descending order\n",
        "  score_series = pd.Series(cosine_similarity_matrix[id]).sort_values(ascending = False)\n",
        "\n",
        "    # getting the indexes of the 10 most similar movies\n",
        "  top_10_indexes = list(score_series.iloc[1:11].index)\n",
        "\n",
        "    # populating the list with the titles of the best 10 matching movies\n",
        "  for i in top_10_indexes:\n",
        "      recommended_movies.append(list(df.index)[i])\n",
        "  sol = []\n",
        "  for i in recommended_movies:\n",
        "    sol.append(df['Title'][i])\n",
        "\n",
        "  return sol\n",
        "recommend_movies('Fargo')"
      ],
      "metadata": {
        "id": "9fvdSCW5uvlk"
      },
      "execution_count": null,
      "outputs": []
    }
  ]
}